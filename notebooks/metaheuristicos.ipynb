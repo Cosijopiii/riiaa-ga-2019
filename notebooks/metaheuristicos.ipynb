{
  "nbformat": 4,
  "nbformat_minor": 0,
  "metadata": {
    "kernelspec": {
      "display_name": "Python 3",
      "language": "python",
      "name": "python3"
    },
    "language_info": {
      "codemirror_mode": {
        "name": "ipython",
        "version": 3
      },
      "file_extension": ".py",
      "mimetype": "text/x-python",
      "name": "python",
      "nbconvert_exporter": "python",
      "pygments_lexer": "ipython3",
      "version": "3.6.7"
    },
    "colab": {
      "name": "Metaheuristicos.ipynb",
      "version": "0.3.2",
      "provenance": []
    }
  },
  "cells": [
    {
      "cell_type": "markdown",
      "metadata": {
        "id": "yZd6IX0UhBQH",
        "colab_type": "text"
      },
      "source": [
        "# Algorimos Metaheurísticos"
      ]
    },
    {
      "cell_type": "markdown",
      "metadata": {
        "id": "5q1kqhXchBQI",
        "colab_type": "text"
      },
      "source": [
        "Existe una gran diversidad de algoritmos metaheurísticos para solucionar problemas.\n",
        "\n",
        "Los problemas se plantean como problemas de optimización y exploración de espacios."
      ]
    },
    {
      "cell_type": "markdown",
      "metadata": {
        "id": "6Paxz0PGhBQJ",
        "colab_type": "text"
      },
      "source": [
        "## Algoritmo de Templado Simulado"
      ]
    },
    {
      "cell_type": "markdown",
      "metadata": {
        "id": "IF2wUQ_ihBQK",
        "colab_type": "text"
      },
      "source": [
        "El algoritmo de templado simulado, recocido simulado o simplemente __SA__ (_Simulated Annealing_) es un algorimo metaheurístico de tipo local basado en un proceso termodinámico.\n",
        "\n",
        "Comenzaremos por proponer una abtracción de un problema de búsqueda local."
      ]
    },
    {
      "cell_type": "code",
      "metadata": {
        "id": "T7jGqMByhBQK",
        "colab_type": "code",
        "colab": {}
      },
      "source": [
        "from abc import ABCMeta, abstractmethod\n",
        "class LocalSearchProblem:\n",
        "    \"\"\"\n",
        "    Un problema de búsqueda local\n",
        "    \"\"\"\n",
        "    __metaclass__ = ABCMeta\n",
        "    \n",
        "    @abstractmethod\n",
        "    def aleatoria(self):\n",
        "        \"\"\"\n",
        "        Obtiene un estado aleatorio del problema\n",
        "        :return: un estado aleatorio\n",
        "        \"\"\"\n",
        "        pass\n",
        "    \n",
        "    @abstractmethod\n",
        "    def energia(self,x):\n",
        "        \"\"\"\n",
        "        Calcula la energía de un estado\n",
        "        :param x: el estado al que se calculará la energía\n",
        "        :return: la energía del estado\n",
        "        \"\"\"\n",
        "        pass\n",
        "    \n",
        "    def move(self,x):\n",
        "        \"\"\"\n",
        "        Una solución vecina a un estado dado\n",
        "        :param x: la solución de referencia\n",
        "        :return: una solución vecina a x\n",
        "        \"\"\"\n",
        "        pass\n",
        "    \n",
        "    def show(self,x):\n",
        "        \"\"\"\n",
        "        Muestra graficamente la solución x\n",
        "        :param x: el estado a mostrar\n",
        "        \"\"\"\n",
        "        pass"
      ],
      "execution_count": 0,
      "outputs": []
    },
    {
      "cell_type": "markdown",
      "metadata": {
        "id": "Rlqp6i4-hBQM",
        "colab_type": "text"
      },
      "source": [
        "Utilizando la definición de __LocalSearchProblem__ podemos definir el algoritmo __SA__."
      ]
    },
    {
      "cell_type": "code",
      "metadata": {
        "id": "r_7B_UCNhBQN",
        "colab_type": "code",
        "colab": {}
      },
      "source": [
        "import numpy as np\n",
        "class SimulatedAnnealing:\n",
        "    \"\"\"\n",
        "    Implementación del algoritmo de templado simulado\n",
        "    \"\"\"\n",
        "    \n",
        "    @staticmethod\n",
        "    def search(problema,c_enfriamiento,Tinit,Tend,n,K=10):\n",
        "        \"\"\"\n",
        "        Busqueda SA\n",
        "        :param problema: el problema a resolver\n",
        "        :param c_enfriamiento: constante de enfriamiento\n",
        "        :param Tinit: temperatura inicial\n",
        "        :param Tend: temperatura final\n",
        "        :param n: número de iteraciones a cada temperatura\n",
        "        (iteraciones para equilibrio térmico)\n",
        "        :return: una tupla con el estado de menor energía \n",
        "        como primer elemento y su energía como segundo.\n",
        "        \"\"\"\n",
        "        # Obtenemos del problema una solución aleatoria\n",
        "        x = problema.aleatoria()\n",
        "        # Calculamos su energía\n",
        "        v = problema.energia(x)\n",
        "        # Establecemos la temperatura del sistema igual a la\n",
        "        # temperatura inicial\n",
        "        T = Tinit\n",
        "        # número de iteración\n",
        "        it = 0\n",
        "        # Mientras no se alcance la temperatura inicial\n",
        "        while T > Tend:\n",
        "            for i in range(0,n):\n",
        "                # Obtenemos una nueva solución vecina a partir de la \n",
        "                # solución actual\n",
        "                xp = problema.move(x)\n",
        "                # Calculamos la energía de la nueva solución\n",
        "                vp = problema.energia(xp)\n",
        "                # Si la energía de la nueva solución es menor o igual\n",
        "                # a la de la solución actual\n",
        "                if (vp <= v):\n",
        "                    #aceptamos la solución nueva\n",
        "                    x,v = xp,vp\n",
        "                # Si tenemos una solución de mayor energía\n",
        "                else:\n",
        "                    # calculamos la probabilidad de aceptarla\n",
        "                    p_acept = np.exp(-(vp-v)/T)\n",
        "                    # simulación estocástica\n",
        "                    r = np.random.uniform()\n",
        "                    if(r < p_acept):\n",
        "                        # aceptamos la solución de mayor energía\n",
        "                        x,v = xp,vp\n",
        "            # Enfriamos el sistema tras equilibrio térmico\n",
        "            T = c_enfriamiento*T \n",
        "            # Mostramos el estado de manera gráfica\n",
        "            if it%K==0:\n",
        "                problema.show(x)\n",
        "            # incrementamos la iteracion\n",
        "            it = it+1\n",
        "        # regresamos la solución y su energía en una tupla\n",
        "        return (x,v)"
      ],
      "execution_count": 0,
      "outputs": []
    },
    {
      "cell_type": "markdown",
      "metadata": {
        "id": "1x7C_xI0hBQP",
        "colab_type": "text"
      },
      "source": [
        "Para ilustrar una aplicación del algoritmo __SA__ usaremos el problema del agente viajero."
      ]
    },
    {
      "cell_type": "markdown",
      "metadata": {
        "id": "KN0YiNNJhBQQ",
        "colab_type": "text"
      },
      "source": [
        "## El problema del agente viajero"
      ]
    },
    {
      "cell_type": "markdown",
      "metadata": {
        "id": "flIGKNLEhBQQ",
        "colab_type": "text"
      },
      "source": [
        "El problema del agente viajero (_TSP_ por sus siglas en inglés) puede establecerse de manera muy simple como el problema de encontrar una ruta que visite cada ciudad de un conjunto de ciudades y al mismo tiempo minimice el costo de dicha ruta.\n",
        "\n",
        "Aunque el problema puede establecerse de manera simple, la explosión combinatoria de las secuencias de ciudades que definen una ruta crece muy rápidamente con el número de ciudades.\n",
        "\n",
        "Por ejemplo si tenemos una ciudad solo hay una posibilidad, con dos ciudades dos posibilidades, con tres seis posibilidades, y con __n__ ciudades tenemos __n!__ posibilidades.\n",
        "\n",
        "Este número de posibles rutas crece muy rápidamente, con n=20 tenemos 2,432,902,008,176,640,000 posibles rutas. \n",
        "\n",
        "Comencemos por definir el problema del Agente Viajero."
      ]
    },
    {
      "cell_type": "code",
      "metadata": {
        "id": "qBlO-GaxhBQR",
        "colab_type": "code",
        "colab": {}
      },
      "source": [
        "import numpy as np\n",
        "import pylab as pl\n",
        "from IPython import display\n",
        "\n",
        "class TSP:\n",
        "    \"\"\"\n",
        "    Problema del Agente Viajero\n",
        "    \"\"\"\n",
        "    def __init__(self,n=10):\n",
        "        \"\"\"\n",
        "        Crea una instancia aleatoria del problema del agente viajero\n",
        "        :param n: número de ciudades a generar\n",
        "        :interactive: verdadero si se mostrará la evolución\n",
        "        \"\"\"\n",
        "        self.n = n\n",
        "        \n",
        "        # Genera las ciudades aleatorias\n",
        "        self.cities = np.random.uniform(size=(n,2))\n",
        "        \n",
        "    def compute_cost(self,permutation):\n",
        "        n = len(permutation)\n",
        "        M = self.cities[permutation,:]        \n",
        "        return np.sum(np.sqrt(np.sum(\\\n",
        "        (M[[i%self.n for i in range(0,self.n+1)]]\\\n",
        "         -M[[i%n for i in range(1,n+2)],:])**2,axis=1)))\n",
        "         \n",
        "    def show(self,permutation=[]):\n",
        "        pl.clf()\n",
        "        if len(permutation)==0:\n",
        "            permutation = list(range(self.n))\n",
        "            show_lines = False\n",
        "        else:\n",
        "            show_lines = True\n",
        "        M = self.cities[permutation,:]\n",
        "        X = M[[i%self.n for i in range(0,self.n+1)],0]\n",
        "        Y = M[[i%self.n for i in range(0,self.n+1)],1]\n",
        "        pl.scatter(X,Y,color = 'red',marker=\"o\")\n",
        "        if show_lines:\n",
        "            pl.plot(X,Y,color=\"blue\")\n",
        "            pl.title('Costo de la solución = '+\\\n",
        "            str(self.compute_cost(permutation)))\n",
        "        else:\n",
        "            pl.title(\"Ciudades\")\n",
        "            pl.grid()\n",
        "        display.display(pl.gcf())\n",
        "        display.clear_output(wait=True)\n",
        "        "
      ],
      "execution_count": 0,
      "outputs": []
    },
    {
      "cell_type": "code",
      "metadata": {
        "id": "mx9BnpNVhBQT",
        "colab_type": "code",
        "outputId": "4bd62553-355e-47ff-a773-d8fa4333b2ff",
        "colab": {
          "base_uri": "https://localhost:8080/",
          "height": 281
        }
      },
      "source": [
        "# Inicializamos el generador de números aleatorios de numpy\n",
        "np.random.seed(2019)\n",
        "# Generamos una instancia del problema del Agente Viajero\n",
        "tsp = TSP(n=20)\n",
        "# Mostramos las ciudades del problema\n",
        "tsp.show()"
      ],
      "execution_count": 0,
      "outputs": [
        {
          "output_type": "display_data",
          "data": {
            "image/png": "[encoded data removed]",
            "text/plain": [
              "<Figure size 432x288 with 1 Axes>"
            ]
          },
          "metadata": {
            "tags": []
          }
        }
      ]
    },
    {
      "cell_type": "code",
      "metadata": {
        "id": "dQWUX7THnzux",
        "colab_type": "code",
        "outputId": "7a67eead-2ac4-4e0a-9649-1e150312a6a2",
        "colab": {
          "base_uri": "https://localhost:8080/",
          "height": 281
        }
      },
      "source": [
        "# Mostramos una posible permutación de las ciudades\n",
        "permutacion  = list(range(20))\n",
        "tsp.show(permutacion)"
      ],
      "execution_count": 0,
      "outputs": [
        {
          "output_type": "display_data",
          "data": {
            "image/png": "[encoded data removed]",
            "text/plain": [
              "<Figure size 432x288 with 1 Axes>"
            ]
          },
          "metadata": {
            "tags": []
          }
        }
      ]
    },
    {
      "cell_type": "code",
      "metadata": {
        "id": "reTgGlM1hBQW",
        "colab_type": "code",
        "outputId": "d883be90-2f4b-40e9-cdc8-32ece9a172e7",
        "colab": {
          "base_uri": "https://localhost:8080/",
          "height": 281
        }
      },
      "source": [
        "import random as rd\n",
        "# inicializamos la semilla de random\n",
        "rd.seed(2017)\n",
        "#\n",
        "# una permutación distinta tendrá otro costo\n",
        "rd.shuffle(permutacion)\n",
        "tsp.show(permutacion)"
      ],
      "execution_count": 0,
      "outputs": [
        {
          "output_type": "display_data",
          "data": {
            "image/png": "[encoded data removed]",
            "text/plain": [
              "<Figure size 432x288 with 1 Axes>"
            ]
          },
          "metadata": {
            "tags": []
          }
        }
      ]
    },
    {
      "cell_type": "markdown",
      "metadata": {
        "id": "gWWUl6KMhBQY",
        "colab_type": "text"
      },
      "source": [
        "Observamos que esta nueva solución tiene un costo mayor."
      ]
    },
    {
      "cell_type": "markdown",
      "metadata": {
        "id": "SPqDIrQ1hBQY",
        "colab_type": "text"
      },
      "source": [
        "Ahora vamos a ver como usar SA para solucionar el problema.\n",
        "\n",
        "Necesitamos que el problema implemente los métodos de una Búsqueda Local. Así creamos el problema del Agente Viajero que extiende de TSP."
      ]
    },
    {
      "cell_type": "code",
      "metadata": {
        "id": "5n7NJ4u7hBQZ",
        "colab_type": "code",
        "colab": {}
      },
      "source": [
        "\n",
        "import random\n",
        "from random import randint\n",
        "class TSP_LS(TSP,LocalSearchProblem):\n",
        "    \"\"\"\n",
        "    Problema del Agente Viajero \n",
        "    como un problema de búsqueda local\n",
        "    \"\"\"\n",
        "    def __init__(self,n=10):\n",
        "        \"\"\"\n",
        "        Construye el problema del agente viajero con ciudades aleatorias\n",
        "        :param n: número de ciudades\n",
        "        \"\"\"\n",
        "        # invocamos el constructor de TSP\n",
        "        TSP.__init__(self,n)\n",
        "        \n",
        "    def aleatoria(self):\n",
        "        \"\"\"\n",
        "        Un estado aleatorio\n",
        "        :return: el estado\n",
        "        \"\"\"\n",
        "        conf = list(range(0,self.n))\n",
        "        random.shuffle(conf)\n",
        "        return conf\n",
        "        \n",
        "    def energia(self,x):\n",
        "        \"\"\"\n",
        "        La energía de un estado\n",
        "        :param x: la permutación de ciudades\n",
        "        :return: el costo de la ruta\n",
        "        \"\"\"\n",
        "        return self.compute_cost(x)\n",
        "        \n",
        "    def move(self,x):\n",
        "        \"\"\"\n",
        "        Una solución vecina aleatoria\n",
        "        :param x: la permutación de referencia\n",
        "        :\n",
        "        \"\"\"\n",
        "        # creamos una copia para no alterar\n",
        "        # la solución original\n",
        "        xp = x.copy()\n",
        "        i=randint(0,self.n-1)\n",
        "        j=randint(0,self.n-1)\n",
        "        \n",
        "        xp[i],xp[j]=xp[j],xp[i]\n",
        "        \n",
        "        return xp"
      ],
      "execution_count": 0,
      "outputs": []
    },
    {
      "cell_type": "code",
      "metadata": {
        "id": "IZvkqW04hBQb",
        "colab_type": "code",
        "outputId": "fc865946-7c78-4c98-906c-2ba1adbf0ffa",
        "colab": {
          "base_uri": "https://localhost:8080/",
          "height": 281
        }
      },
      "source": [
        "# Procedemos a probar el algoritmo SA en el problema TSP\n",
        "tsp = TSP_LS(n=40)\n",
        "# El parámetro K es para mostrar como va la solución tras K iteraciones de enfriamiento\n",
        "solucion,costo = SimulatedAnnealing.search(problema=tsp,c_enfriamiento=0.999,Tinit=5,Tend=0.005,n=100,K=120)"
      ],
      "execution_count": 0,
      "outputs": [
        {
          "output_type": "display_data",
          "data": {
            "image/png": "[encoded data removed]",
            "text/plain": [
              "<Figure size 432x288 with 1 Axes>"
            ]
          },
          "metadata": {
            "tags": []
          }
        }
      ]
    },
    {
      "cell_type": "code",
      "metadata": {
        "id": "QoGeuXRJhBQd",
        "colab_type": "code",
        "outputId": "e0a0dd75-a10d-469d-81b8-1d2a4dbd8bcd",
        "colab": {
          "base_uri": "https://localhost:8080/",
          "height": 72
        }
      },
      "source": [
        "print(\"La solución encontrada: \",solucion)\n",
        "print(\"El costo de la solución:\",costo)"
      ],
      "execution_count": 0,
      "outputs": [
        {
          "output_type": "stream",
          "text": [
            "La solución encontrada:  [8, 25, 37, 7, 11, 31, 9, 14, 1, 4, 26, 22, 10, 16, 27, 32, 3, 18, 17, 33, 13, 28, 24, 6, 19, 2, 12, 15, 0, 29, 38, 20, 34, 5, 23, 36, 39, 21, 30, 35]\n",
            "El costo de la solución: 5.856049897898782\n"
          ],
          "name": "stdout"
        }
      ]
    },
    {
      "cell_type": "markdown",
      "metadata": {
        "id": "vpDUuLDnhBQf",
        "colab_type": "text"
      },
      "source": [
        "## Algoritmo genético para problemas de recombinación"
      ]
    },
    {
      "cell_type": "markdown",
      "metadata": {
        "id": "xKBjKi32hBQg",
        "colab_type": "text"
      },
      "source": [
        "Ahora vamos a construir un algoritmo genético para problemas de recombinación en una versión básica."
      ]
    },
    {
      "cell_type": "markdown",
      "metadata": {
        "id": "8EGerpsXhBQg",
        "colab_type": "text"
      },
      "source": [
        "### Entorno"
      ]
    },
    {
      "cell_type": "markdown",
      "metadata": {
        "id": "KLI0mSt5hBQh",
        "colab_type": "text"
      },
      "source": [
        "Comencemos por definir el Entorno. Un Entorno o Medio Ambiente correspondera a un problema a resolver.\n",
        "\n",
        "Usaremos la clase __Environment__."
      ]
    },
    {
      "cell_type": "code",
      "metadata": {
        "id": "LaB0iATZhBQi",
        "colab_type": "code",
        "colab": {}
      },
      "source": [
        "from abc import ABCMeta, abstractmethod\n",
        "class Environment:\n",
        "    \"\"\"\n",
        "    Entorno define los métodos que deben ser implementados \n",
        "    Por una instancia del problema a resolver\n",
        "    \"\"\"\n",
        "    __metaclass__ = ABCMeta\n",
        "    \n",
        "    @abstractmethod\n",
        "    def evaluate(self,population):\n",
        "        \"\"\"\n",
        "        Evalua los individuos de la población asignándoles su aptitud\n",
        "        :param: la población de individuos\n",
        "        \"\"\"\n",
        "        pass\n",
        "        \n",
        "    @abstractmethod\n",
        "    def decode(self,population):\n",
        "        \"\"\"\n",
        "        Decodifica los individuos de una población \n",
        "        generando para cada uno de ellos un fenotipo de acuerdo a su genotipo\n",
        "        El fenotipo se asigna al organismo.\n",
        "        :parama\n",
        "        \"\"\"\n",
        "        pass\n",
        "        \n",
        "    @abstractmethod\n",
        "    def get_chromosome_length(self):\n",
        "        \"\"\"\n",
        "        Define cuantos bits se requieren para representar el cromosoma de un\n",
        "        organismo\n",
        "        :return: el número de bits\n",
        "        \"\"\"\n",
        "        pass"
      ],
      "execution_count": 0,
      "outputs": []
    },
    {
      "cell_type": "markdown",
      "metadata": {
        "id": "uhYFBjIehBQk",
        "colab_type": "text"
      },
      "source": [
        "### Genotipo"
      ]
    },
    {
      "cell_type": "markdown",
      "metadata": {
        "id": "R86RupROhBQl",
        "colab_type": "text"
      },
      "source": [
        "La información genética de un individuo esta en su genotipo. Aunque para el algoritmo genético usado para resolver problemas de permutación la codificación no es necesaria, aquí incluimos la clase por completez.\n",
        "\n",
        "Usaremos la clase __Genotype__."
      ]
    },
    {
      "cell_type": "code",
      "metadata": {
        "id": "uTI8uSgIhBQl",
        "colab_type": "code",
        "colab": {}
      },
      "source": [
        "from struct import unpack\n",
        "from os import urandom\n",
        "from functools import reduce\n",
        "from math import ceil\n",
        "\n",
        "class Genotype:\n",
        "    \"\"\"\n",
        "    El genotipo de un organismo\n",
        "    \"\"\"\n",
        "    def __init__(self,n,chromosome=None):\n",
        "        \"\"\"\n",
        "        Construye el genotipo de un organismo\n",
        "        :param n: el número de bits del cromosoma binario\n",
        "        :param chromosome: un cromosoma de referencia a partir\n",
        "        del cual se creará el nuevo genotipo\n",
        "        \"\"\"\n",
        "        # establecemos el número de bits\n",
        "        self.n = n\n",
        "        # si tenemos un cromosoma lo establecemos\n",
        "        # la información del cromosoma esta contenida en un entero\n",
        "        # los bits del entero representan el cromosoma\n",
        "        if(chromosome != None):\n",
        "            self.chromosome = chromosome\n",
        "        else:\n",
        "            # genera la información genética de manera aleatoria\n",
        "            if(self.n==64):\n",
        "                # el generador de números aleatorios nos da 8 bytes\n",
        "                chromosome = unpack(\"!Q\",urandom(8))[0]\n",
        "            elif(self.n<64):\n",
        "                # recortamos al número exacto de bits\n",
        "                chromosome = unpack(\"!Q\",urandom(8))[0] & \\\n",
        "                ((1<<self.n)-1)\n",
        "            else:\n",
        "                # generamos varias lecturas de 64 bits para generar\n",
        "                # un cromosoma de longitud mayor\n",
        "                m = ceil(self.n/64)\n",
        "                rand = [0]+[unpack(\"!Q\",urandom(8))[0] for i in range(0,m)]\n",
        "                chromosome = reduce(lambda x,y:(x<<64)|y,rand) &\\\n",
        "                ((1<<self.n)-1)\n",
        "            # establecemos el cromosoma\n",
        "            self.chromosome = chromosome\n",
        "    \n",
        "    def __str__(self):\n",
        "        \"\"\"\n",
        "        representación en cadena del genotipo\n",
        "        :return: la cadena de unos y ceros\n",
        "        \"\"\"\n",
        "        return (\"{0:0\"+str(self.n)+\"b}\").format(self.chromosome)\n",
        "\n",
        "    def __repr__(self):\n",
        "        \"\"\"\n",
        "        Representación del objeto en impresiones\n",
        "        \"\"\"\n",
        "        return str(self)"
      ],
      "execution_count": 0,
      "outputs": []
    },
    {
      "cell_type": "code",
      "metadata": {
        "id": "CP-FuOT6hBQn",
        "colab_type": "code",
        "outputId": "4e8ba6bb-7980-4303-b090-3dcdc2ce4551",
        "colab": {
          "base_uri": "https://localhost:8080/",
          "height": 35
        }
      },
      "source": [
        "# Creamos un genotipo aleatorio de 50 bits\n",
        "genotipo = Genotype(50)\n",
        "print(\"Genotipo:\",genotipo)"
      ],
      "execution_count": 0,
      "outputs": [
        {
          "output_type": "stream",
          "text": [
            "Genotipo: 11001110100101111100001110010110010111000111000000\n"
          ],
          "name": "stdout"
        }
      ]
    },
    {
      "cell_type": "markdown",
      "metadata": {
        "id": "albmoeLUhBQq",
        "colab_type": "text"
      },
      "source": [
        "### Organismo"
      ]
    },
    {
      "cell_type": "markdown",
      "metadata": {
        "id": "fGd6x0WLhBQq",
        "colab_type": "text"
      },
      "source": [
        "El organismo estará formado por un genotipo y un fenotipo.\n",
        "\n",
        "Usamos la clase __Organism__."
      ]
    },
    {
      "cell_type": "code",
      "metadata": {
        "id": "JPd7gLEjhBQr",
        "colab_type": "code",
        "colab": {}
      },
      "source": [
        "\n",
        "class Organism:\n",
        "    \n",
        "    \"\"\"\n",
        "    Organismo artificial\n",
        "    \"\"\"\n",
        "    def __init__(self,genotype=None,phenotype=None):\n",
        "        \"\"\"\n",
        "        Crea el organismo\n",
        "        \"\"\"\n",
        "        # establece el genotipo\n",
        "        self.genotype = genotype\n",
        "        # establece el fenotipo\n",
        "        self.phenotype = phenotype\n",
        "        \n",
        "    def __str__(self):\n",
        "        \"\"\"\n",
        "        Convierte a cadena la información del organismo\n",
        "        \"\"\"\n",
        "        # Observamos que si la aptitud (fitness) esta definida\n",
        "        # la incluye en la información de la cadena\n",
        "        return  \\\n",
        "        (('genotype: '+ str(self.genotype)) \\\n",
        "        if self.genotype is not None else '') + \\\n",
        "        (('phenotype: '+ str(self.phenotype)) \\\n",
        "        if self.phenotype is not None else '') + \\\n",
        "        (('fitness: ' + str(self.fitness)) \\\n",
        "        if hasattr(self,'fitness') else '')\n",
        "        \n",
        "    def __repr__(self):\n",
        "        \"\"\"\n",
        "        Representación del objeto en impresiones\n",
        "        \"\"\"\n",
        "        return str(self)\n",
        "        "
      ],
      "execution_count": 0,
      "outputs": []
    },
    {
      "cell_type": "markdown",
      "metadata": {
        "id": "4JWUjcH4hBQt",
        "colab_type": "text"
      },
      "source": [
        "### Población"
      ]
    },
    {
      "cell_type": "markdown",
      "metadata": {
        "id": "G655uMpdhBQt",
        "colab_type": "text"
      },
      "source": [
        "Los algoritmos genéticos están basados en poblaciones de organismos.\n",
        "\n",
        "Vamos a crear una población con la clase __Population__."
      ]
    },
    {
      "cell_type": "code",
      "metadata": {
        "id": "e-NDjeG5hBQt",
        "colab_type": "code",
        "colab": {}
      },
      "source": [
        "from numpy import random\n",
        "import numpy as np\n",
        "class Population:\n",
        "    \"\"\"\n",
        "    Una población de organismos\n",
        "    \"\"\"\n",
        "    \n",
        "    def __init__(self,environment,parameters,individuals=None):\n",
        "        \"\"\"\n",
        "        Crea la población de organismos\n",
        "        :param environment: el problema o entorno para los organismos\n",
        "        :param parameters: un diccionario con los parámetros del algoritmo\n",
        "        :param individuals: los individuos de la población a crear\n",
        "        \"\"\"\n",
        "        self.environment = environment\n",
        "        self.parameters = parameters\n",
        "        # Extrae el número de individuos u organismos\n",
        "        self.size = self.parameters['n.individuals']\n",
        "        \n",
        "        if individuals==None:\n",
        "            # Si no se especificó a los miembros se crean nuevos organismos\n",
        "            self.individuals = [self.create_individual() \\\n",
        "            for i in range(self.size)]\n",
        "        else:\n",
        "            # Si se especifican, se asignan a la población\n",
        "            self.individuals = individuals\n",
        "            # El tamaño de la población es el número de organismos\n",
        "            self.size = len(individuals)\n",
        "\n",
        "        \n",
        "    def create_individual(self):\n",
        "        \"\"\"\n",
        "        Crea un individuo \n",
        "        :return: el nuevo organismo\n",
        "        \"\"\"\n",
        "        # Si se trata de un problema de permutación esto se le indica\n",
        "        # al algoritmo usando la llave 'type' con valor 'permutation'\n",
        "        if(self.parameters['type']=='permutation'):\n",
        "            # En este caso creamos el fenotipo como una permutación de enteros\n",
        "            # entre 0 y N-1, con N el tamaño del cromosoma definido en el \n",
        "            # problema\n",
        "            phen = \\\n",
        "            np.array(list(range(self.environment.get_chromosome_length())))\n",
        "            # desordenamos la lista\n",
        "            random.shuffle(phen)\n",
        "            # creamos el individuo con el fenotipo generado\n",
        "            individual = Organism(phenotype=phen)\n",
        "        else:\n",
        "            # En este caso creamos un nuevo genotipo aleatorio y creamos\n",
        "            # un organismo con dicho genotipo\n",
        "            individual = \\\n",
        "            Organism(Genotype(self.environment.get_chromosome_length()))\n",
        "        return individual\n",
        "        \n",
        "    def __str__(self):\n",
        "        \"\"\"\n",
        "        Una cadena con la información de cada organismo\n",
        "        :return: una cadena con la información de los organismos de la población\n",
        "        \"\"\"\n",
        "        return \"\\n\".join([str(i) for i in self.individuals])\n",
        "    \n",
        "    def __repr__(self):\n",
        "        \"\"\"\n",
        "        Representación del objeto para impresión\n",
        "        \"\"\"\n",
        "        return str(self)"
      ],
      "execution_count": 0,
      "outputs": []
    },
    {
      "cell_type": "markdown",
      "metadata": {
        "id": "-4CZTSh0hBQw",
        "colab_type": "text"
      },
      "source": [
        "### Selección"
      ]
    },
    {
      "cell_type": "markdown",
      "metadata": {
        "id": "izg72eeuhBQy",
        "colab_type": "text"
      },
      "source": [
        "Creamos una clase con las funciones para selección artificial de organismos."
      ]
    },
    {
      "cell_type": "code",
      "metadata": {
        "id": "o2YIVN6ZhBQy",
        "colab_type": "code",
        "colab": {}
      },
      "source": [
        "from functools import reduce\n",
        "from numpy import random,sort,cumsum\n",
        "from random import choice,shuffle\n",
        "from math import ceil,sqrt\n",
        "class Selection:\n",
        "    \n",
        "    \"\"\"\n",
        "    Operadores de selección artificial de organismos\n",
        "    \"\"\"\n",
        "    @staticmethod\n",
        "    def tournament(population):\n",
        "        \"\"\"\n",
        "        Selección tipo torneo\n",
        "        :param population: la población de organismos\n",
        "        :return: la población de organismos seleccionados para reproducción\n",
        "        \"\"\"\n",
        "        # El tamaño del torneo se obtiene de los parametros del algoritmo\n",
        "        # estos se consultan de la población\n",
        "        k = population.parameters['tournament.size']\n",
        "        # Se crea una nueva población\n",
        "        # Seleccionamos torneos y el ganador es el de fitness máximo\n",
        "        return  Population(population.environment, population.parameters,\\\n",
        "        [max([choice(population.individuals) \\\n",
        "        for i in range(k)],key=lambda x:x.fitness)\\\n",
        "        for i in range(population.size)])\n",
        "    \n",
        "            \n",
        "    @staticmethod\n",
        "    def roulettewheel(population):\n",
        "        \"\"\"\n",
        "        Selección tipo ruleta\n",
        "        :param population: la población de organismos\n",
        "        :return: la población de organismos seleccionados para reproducción\n",
        "        \"\"\"\n",
        "        # calculamos los apuntadores de selección de la ruleta\n",
        "        pointers = sort(random.uniform(size=population.size))\n",
        "        # la suma de las aptitudes de la población\n",
        "        total_fitness = sum(map(lambda i:i.fitness,population.individuals))\n",
        "        \n",
        "        # las probabilidades de selección\n",
        "        probabilities = map(lambda x:x.fitness/total_fitness, \\\n",
        "        population.individuals)\n",
        "        # lista para el resultado de la selección\n",
        "        selected = []\n",
        "        # los delimitadores de región para cada individuo\n",
        "        delimiters = cumsum(list(probabilities))\n",
        "        \n",
        "        # dos apuntadores que iremos corriendo\n",
        "        i_p = 0\n",
        "        i_d = 0\n",
        "        while i_p < population.size and i_d < population.size:\n",
        "            while i_p < population.size and pointers[i_p] < delimiters[i_d]:\n",
        "                # seleccionamos al individuo mientras haya apuntadores en su región\n",
        "                selected=selected+[population.individuals[i_d]]\n",
        "                # siguiente apuntador\n",
        "                i_p = i_p + 1\n",
        "            # siguiente individuo\n",
        "            i_d = i_d + 1\n",
        "        # desordenamos los organismos seleccionados\n",
        "        shuffle(selected)\n",
        "        # una nueva población a partir de los seleccionados\n",
        "        return  Population(population.environment, population.parameters,\\\n",
        "        selected)\n",
        "        "
      ],
      "execution_count": 0,
      "outputs": []
    },
    {
      "cell_type": "markdown",
      "metadata": {
        "id": "m_iucUHkhBQ2",
        "colab_type": "text"
      },
      "source": [
        "### Operadores genéticos"
      ]
    },
    {
      "cell_type": "markdown",
      "metadata": {
        "id": "0a5Z6YLXhBQ3",
        "colab_type": "text"
      },
      "source": [
        "Vamos a definir una clase para los operadores genéticos de cruza y mutación.\n",
        "\n",
        "En nuestra aplicación a problemas de permutación definimos un operador especial para la cruza de soluciones. Aquí vamos a presentar varios operadores de cruza. "
      ]
    },
    {
      "cell_type": "code",
      "metadata": {
        "id": "kJ8l67h1hBQ4",
        "colab_type": "code",
        "colab": {}
      },
      "source": [
        "from numpy import random\n",
        "import numpy as np\n",
        "class PermutationCrossover:\n",
        "    \n",
        "    \"\"\"\n",
        "    Cruzas para problemas de permutación. Ver referencias [1,2]\n",
        "    \"\"\"\n",
        "    \n",
        "    @staticmethod\n",
        "    def pmx_crossover(individual1,individual2):\n",
        "        \"\"\"\n",
        "        Partially-mapped crossover\n",
        "        :param individual1: primer padre\n",
        "        :parma individual2: segundo padre\n",
        "        :return: una lista con dos hijos\n",
        "        \"\"\"\n",
        "        n,i,f,i_central,i_sides= PermutationCrossover.mapping_sections(\\\n",
        "        individual1,individual2)\n",
        "        child1,child2 = PermutationCrossover.child_templates(n)\n",
        "        map_1_2,map_2_1 = PermutationCrossover.find_mappings(\\\n",
        "        i_central,individual1,individual2)\n",
        "        \n",
        "        child1[i_central]= individual2.phenotype[i_central]\n",
        "        child2[i_central]= individual1.phenotype[i_central] \n",
        "\n",
        "        sides = list(filter(lambda x: x not in i_central,\\\n",
        "        range(0,n)))        \n",
        "        \n",
        "        child1[sides] = [i if i not in map_2_1.keys() else\\\n",
        "        PermutationCrossover.alternative(i,map_2_1) \\\n",
        "        for i in individual1.phenotype[sides]]\n",
        "        child2[sides] = [i if i not in map_1_2.keys() else\\\n",
        "        PermutationCrossover.alternative(i,map_1_2) \\\n",
        "        for i in individual2.phenotype[sides]]\n",
        "        return [Organism(phenotype=child1),Organism(phenotype=child2)]\n",
        "        \n",
        "    @staticmethod\n",
        "    def cx_crossover(individual1,individual2):\n",
        "        \"\"\"\n",
        "        Partially-mapped crossover\n",
        "        :param individual1: primer padre\n",
        "        :param individual2: segundo padre\n",
        "        :return: una lista con dos hijos\n",
        "        \"\"\"\n",
        "        n = len(individual1.phenotype)\n",
        "        child1= individual2.phenotype.copy()\n",
        "        child2= individual1.phenotype.copy()\n",
        "        city_pos = 0\n",
        "        map_1 = {individual1.phenotype[i]:i for i in range(0,n)}\n",
        "        while(True):\n",
        "            city_pos = PermutationCrossover.apply_mapping(\\\n",
        "            child1,child2,individual1,individual2,city_pos,map_1)\n",
        "            if(map_1[individual2.phenotype[city_pos]] is 0):\n",
        "                PermutationCrossover.apply_mapping(\\\n",
        "                child1,child2,individual1,individual2,city_pos,map_1)\n",
        "                break\n",
        "        return  [Organism(phenotype=child1),Organism(phenotype=child2)]\n",
        "        \n",
        "    @staticmethod\n",
        "    def apply_mapping(child1,child2,individual1,individual2,city_pos,map_1):\n",
        "        child1[city_pos] = individual1.phenotype[city_pos]\n",
        "        child2[city_pos] = individual2.phenotype[city_pos]\n",
        "        return map_1[individual2.phenotype[city_pos]]\n",
        "              \n",
        "    @staticmethod\n",
        "    def ox_crossover(individual1,individual2):\n",
        "        \"\"\"\n",
        "        Order crossover  \n",
        "        :param individual1: primer padre\n",
        "        :parma individual2: segundo padre\n",
        "        :return: una lista con dos hijos\n",
        "        \"\"\"\n",
        "        n,i,f,i_central,i_sides= PermutationCrossover.mapping_sections(\\\n",
        "        individual1,individual2)\n",
        "        \n",
        "        p1_central = set(individual1.phenotype[i_central])\n",
        "        p2_central = set(individual2.phenotype[i_central])\n",
        "        centrals = p1_central.union(p2_central)\n",
        "        \n",
        "        rest_1 = list(filter(lambda x:x[1] not in centrals, \\\n",
        "        enumerate(individual1.phenotype)))\n",
        "        rest_2 = list(filter(lambda x:x[1] not in centrals, \\\n",
        "        enumerate(individual2.phenotype)))\n",
        "        \n",
        "        rest_1 = np.array([x[1] for x in \\\n",
        "        list(filter(lambda x:x[0]>=f,rest_1))+\\\n",
        "        (list(filter(lambda x:x[0]<i,rest_1)))])\n",
        "\n",
        "        rest_2 = np.array([x[1] for x in \\\n",
        "        list(filter(lambda x:x[0]>=f,rest_2))+\\\n",
        "        (list(filter(lambda x:x[0]<i,rest_2)))])\n",
        "        \n",
        "        head_1 = np.array(list(filter(lambda x:x not in p2_central,\\\n",
        "        individual1.phenotype[i_central])))\n",
        "        \n",
        "        head_2 = np.array(list(filter(lambda x:x not in p1_central,\\\n",
        "        individual2.phenotype[i_central])))\n",
        "        \n",
        "        child1 = PermutationCrossover.build_child(\\\n",
        "        head_1,individual2.phenotype[i_central],rest_1)\n",
        "        \n",
        "        child2= PermutationCrossover.build_child(\\\n",
        "        head_2,individual1.phenotype[i_central],rest_2)\n",
        "         \n",
        "        return [Organism(phenotype=child1),Organism(phenotype=child2)]\n",
        "        \n",
        "    @staticmethod\n",
        "    def build_child(head,middle,rest):\n",
        "        if head.size>0 and rest.size>0:\n",
        "            return np.concatenate((head,middle,rest))\n",
        "        elif head.size>0 and rest.size==0:\n",
        "            return np.concatenate((head,middle))\n",
        "        elif head.size==0 and rest.size>0:\n",
        "            return np.concatenate((middle,rest))\n",
        "        else:\n",
        "            return middle\n",
        "        \n",
        "        \n",
        "    @staticmethod\n",
        "    def ox1_crossover(individual1,individual2):\n",
        "        \"\"\"\n",
        "        Cruza OX1\n",
        "        :param individual1: primer padre\n",
        "        :parma individual2: segundo padre\n",
        "        :return: una lista con dos hijos\n",
        "        \"\"\"\n",
        "        n,i,f,i_central,i_sides= PermutationCrossover.mapping_sections(\\\n",
        "        individual1,individual2)\n",
        "        child1,child2 = PermutationCrossover.child_templates(n) \n",
        "\n",
        "        p1_central = set(individual1.phenotype[i_central])\n",
        "        p2_central = set(individual2.phenotype[i_central])\n",
        "\n",
        "        child1[i_central]= individual1.phenotype[i_central]\n",
        "        child2[i_central]= individual2.phenotype[i_central]        \n",
        "        child1[i_sides[:n-(f-i)-1]] = list(filter(lambda x:x not in p1_central,\\\n",
        "        individual2.phenotype[i_sides]))\n",
        "        child2[i_sides[:n-(f-i)-1]] = list(filter(lambda x:x not in p2_central,\\\n",
        "        individual1.phenotype[i_sides])) \n",
        "        return [Organism(phenotype=child1),Organism(phenotype=child2)]\n",
        "        \n",
        "    @staticmethod\n",
        "    def ox2_crossover(individual1,individual2):\n",
        "        \"\"\"\n",
        "        Cruza OX2\n",
        "        :param individual1: primer padre\n",
        "        :parma individual2: segundo padre\n",
        "        :return: una lista con dos hijos\n",
        "        \"\"\"\n",
        "        n,poss = PermutationCrossover.random_crossover_points(\\\n",
        "        individual1,individual2)\n",
        "\n",
        "        child1 = np.copy(individual1.phenotype)\n",
        "        child2 = np.copy(individual2.phenotype)\n",
        "        \n",
        "        p_1 = individual1.phenotype[poss]\n",
        "        p_2 = individual2.phenotype[poss]\n",
        "\n",
        "        pos_1 = [i[0] for i in enumerate(individual1.phenotype) \\\n",
        "        if i[1] in set(p_2)]\n",
        "        pos_2 = [i[0] for i in enumerate(individual2.phenotype) \\\n",
        "        if i[1] in set(p_1)]\n",
        "        child1[pos_1]= p_2    \n",
        "        child2[pos_2]= p_1\n",
        "        return [Organism(phenotype=child1),Organism(phenotype=child2)]\n",
        "\n",
        "    @staticmethod\n",
        "    def random_crossover_points(individual1,individual2):\n",
        "        n = len(individual1.phenotype)\n",
        "        #sorted unique indices \n",
        "        poss = np.unique(np.random.choice(list(range(0,n)),\\\n",
        "        np.random.randint(1,n)))        \n",
        "        return (n,poss)\n",
        "        \n",
        "    @staticmethod\n",
        "    def pos_crossover(individual1,individual2):\n",
        "        \"\"\"\n",
        "        Cruza posicional\n",
        "        :param individual1: primer padre\n",
        "        :parma individual2: segundo padre\n",
        "        :return: una lista con dos hijos\n",
        "        \"\"\"\n",
        "        n,poss = PermutationCrossover.random_crossover_points(\\\n",
        "        individual1,individual2)\n",
        "        child1,child2 = PermutationCrossover.child_templates(n)\n",
        "        \n",
        "        child1[poss]=individual2.phenotype[poss]\n",
        "        child2[poss]=individual1.phenotype[poss]\n",
        "\n",
        "        \n",
        "        poss_set = set(poss)        \n",
        "        p1_sel = set(individual1.phenotype[poss])\n",
        "        p2_sel = set(individual2.phenotype[poss])\n",
        "        pos_res = list(filter(lambda x:x not in poss_set,range(0,n)))\n",
        "\n",
        "        rest_1 = list(filter(lambda x:x not in p2_sel,individual1.phenotype))\n",
        "            \n",
        "        rest_2 = list(filter(lambda x:x not in p1_sel,individual2.phenotype))\n",
        "\n",
        "        child1[pos_res] = rest_1\n",
        "        child2[pos_res] = rest_2\n",
        "        return [Organism(phenotype=child1),Organism(phenotype=child2)]\n",
        "        \n",
        "    @staticmethod\n",
        "    def pmx_grefenstette_crossover(individual1,individual2):\n",
        "        \"\"\"\n",
        "        Cruza Grefenstette\n",
        "        :param individual1: primer padre\n",
        "        :parma individual2: segundo padre\n",
        "        :return: una lista con dos hijos\n",
        "        \"\"\"\n",
        "        n,i,f,i_central,i_sides= PermutationCrossover.mapping_sections(\\\n",
        "        individual1,individual2)\n",
        "        child1_central = individual2.phenotype[i_central]\n",
        "        child2_central = individual1.phenotype[i_central]\n",
        "        p1_central = set(child1_central)\n",
        "        p2_central = set(child2_central)\n",
        "        child1_rest = np.array(list(filter(lambda x:x not in p1_central,\\\n",
        "        individual1.phenotype)))\n",
        "        child2_rest = np.array(list(filter(lambda x:x not in p2_central,\\\n",
        "        individual1.phenotype)))\n",
        "        pos_1 = np.where(individual1.phenotype==child1_central[0])[0][0]\n",
        "        pos_2 = np.where(individual2.phenotype==child2_central[0])[0][0]\n",
        "        child1 = PermutationCrossover.build_child(child1_rest[:pos_1],\\\n",
        "        child1_central,child1_rest[pos_1:])\n",
        "        child2 = PermutationCrossover.build_child(child2_rest[:pos_2],\\\n",
        "        child2_central,child2_rest[pos_2:])\n",
        "        return [Organism(phenotype=child1),Organism(phenotype=child2)]\n",
        "        \n",
        "    @staticmethod\n",
        "    def mapping_sections(individual1,individual2):\n",
        "        n = len(individual1.phenotype)\n",
        "        i,f = np.sort(random.randint(0,n,2))\n",
        "        i_central = list(range(i,f+1))\n",
        "        i_sides = [i%n for i in range(f+1,n+f+1)]\n",
        "        return (n,i,f,i_central,i_sides)\n",
        "        \n",
        "    @staticmethod\n",
        "    def find_mappings(i_central,individual1,individual2):\n",
        "        map_1_2 = {individual1.phenotype[i]:individual2.phenotype[i] \\\n",
        "        for i in i_central}\n",
        "        map_2_1 = {individual2.phenotype[i]:individual1.phenotype[i] \\\n",
        "        for i in i_central}\n",
        "        return (map_1_2,map_2_1)\n",
        "        \n",
        "    @staticmethod\n",
        "    def alternative(city,map):\n",
        "        while(city in map.keys()):\n",
        "            city = map[city]\n",
        "        return city\n",
        "        \n",
        "        \n",
        "    @staticmethod\n",
        "    def child_templates(n):\n",
        "        return ( np.array([0]*n), np.array([0]*n))"
      ],
      "execution_count": 0,
      "outputs": []
    },
    {
      "cell_type": "code",
      "metadata": {
        "id": "1trEa3sOhBQ6",
        "colab_type": "code",
        "colab": {}
      },
      "source": [
        "from random import randint\n",
        "from numpy import random\n",
        "import numpy as np\n",
        "class GeneticOperators: \n",
        "    \n",
        "    # los tipos de selección\n",
        "    selections={\"tournament.selection\":Selection.tournament,\n",
        "                \"roulettewheel.selection\":Selection.roulettewheel}  \n",
        "                \n",
        "    # los tipos de cruza para problemas de permutación\n",
        "    permutations={\"permutation.ox\":PermutationCrossover.ox_crossover,\n",
        "                  \"permutation.ox1\":PermutationCrossover.ox1_crossover,\n",
        "                  \"permutation.ox2\":PermutationCrossover.ox2_crossover,\n",
        "                  \"permutation.pmx\":PermutationCrossover.pmx_crossover,\n",
        "                  \"permutation.pmx.grefenstette\":\n",
        "                      PermutationCrossover.pmx_grefenstette_crossover,\n",
        "                  \"permutation.pos\":PermutationCrossover.pos_crossover,\n",
        "                  \"permutation.cx\":PermutationCrossover.cx_crossover}\n",
        "    \n",
        "    keys = list(permutations.keys())\n",
        "    \n",
        "    @staticmethod\n",
        "    def crossover(population):\n",
        "        \"\"\"\n",
        "        Realiza la cruza de los individuos de la población\n",
        "        :param population: la población a cruzar\n",
        "        \"\"\"\n",
        "        # asume que los individuos están desordenados en la población\n",
        "        new_pop = []\n",
        "        for i in range(0,population.size>>1):\n",
        "            individual1 = population.individuals[i]\n",
        "            individual2 = population.individuals[population.size-i-1]\n",
        "            # la probabilidad de cruza es 'p.crossover'\n",
        "            if(random.uniform() < population.parameters['p.crossover']):\n",
        "                # el tipo de cruza es 'crossover.type'\n",
        "                # se puden usar todos los operadores de cruza \n",
        "                # de manera aleatoria\n",
        "                type = population.parameters['crossover.type'] \\\n",
        "                if (population.parameters['crossover.type'] \\\n",
        "                != 'permutation.all.operators') else \\\n",
        "                np.random.choice(GeneticOperators.keys)\n",
        "                children = GeneticOperators.permutation_crossover_individuals(\\\n",
        "                individual1,individual2,type) \\\n",
        "                if(population.parameters['type']=='permutation') else \\\n",
        "                GeneticOperators.crossover_individuals(\\\n",
        "                individual1,individual2)\n",
        "            else:\n",
        "                children = [\\\n",
        "                Organism(individual1.genotype,\\\n",
        "                np.array(individual1.phenotype)),\\\n",
        "                Organism(individual2.genotype,\\\n",
        "                np.array(individual2.phenotype))]\n",
        "            new_pop = new_pop + children\n",
        "        # regresamos la población cruzada\n",
        "        return \\\n",
        "        Population(population.environment, population.parameters,new_pop)\n",
        "    \n",
        "    @staticmethod\n",
        "    def crossover_individuals(individual1,individual2):\n",
        "        \"\"\"\n",
        "        Cruza de dos organismos\n",
        "        :param individual1: el primer padre\n",
        "        :param individual2: el segundo padre\n",
        "        :return: una lista con dos nuevos individuos hijos\n",
        "        \"\"\"\n",
        "        genotype1 = individual1.genotype\n",
        "        genotype2 = individual2.genotype\n",
        "        # el punto de cruza\n",
        "        crossp = randint(1,genotype1.n-1)\n",
        "        mask1 = ((1<<(genotype1.n-crossp))-1)<< crossp\n",
        "        mask2 = (1<<crossp)-1\n",
        "        # la cruza a nivel de bits\n",
        "        ch1 = mask1&genotype1.chromosome|mask2&genotype2.chromosome\n",
        "        ch2 = mask1&genotype2.chromosome|mask2&genotype1.chromosome\n",
        "        child1 = Genotype(genotype1.n,ch1)\n",
        "        child2 = Genotype(genotype1.n,ch2)\n",
        "        return [Organism(child1),Organism(child2)]\n",
        "        \n",
        "    @staticmethod\n",
        "    def permutation_crossover_individuals(individual1,individual2,type):\n",
        "        # cuando es problema de permutación delegamos el cómputo\n",
        "        # a los operadores correspondientes\n",
        "        return GeneticOperators.permutations[type](individual1,individual2)\n",
        "        \n",
        "    @staticmethod\n",
        "    def mutate_in_place(population):\n",
        "        \"\"\"\n",
        "        Realiza la mutación en el mismo objeto\n",
        "        :param population: la población a mutar\n",
        "        \"\"\"\n",
        "        # caso de permutación\n",
        "        if(population.parameters['type']=='permutation'):\n",
        "            length = len(population.individuals[0].phenotype)\n",
        "            # usamos una distribución binomial, es más eficiente\n",
        "            # esta distribuión nos da el número de mutaciones a\n",
        "            # aplicar\n",
        "            mutations = random.binomial(length*population.size,\\\n",
        "            population.parameters['p.mutation'])\n",
        "            to_mutate = [(randint(0,population.size-1),randint(0,length-1),\\\n",
        "            randint(0,length-1)) for i in range(0,mutations)]\n",
        "            for ind,a,b in to_mutate:\n",
        "                temp = population.individuals[ind].phenotype[a]\n",
        "                population.individuals[ind].phenotype[a] = \\\n",
        "                population.individuals[ind].phenotype[b]\n",
        "                population.individuals[ind].phenotype[b] = temp\n",
        "        # caso clásico\n",
        "        else:\n",
        "            length = population.environment.get_chromosome_length();\n",
        "            mutations = random.binomial(length*population.size,\\\n",
        "            population.parameters['p.mutation'])\n",
        "            to_mutate = [(randint(0,population.size-1),randint(0,length-1)) \\\n",
        "            for i in range(0,mutations)]\n",
        "            for ind,pos in to_mutate:\n",
        "                population.individuals[ind].genotype.chromosome = \\\n",
        "                population.individuals[ind].genotype.chromosome^(1<<pos)\n",
        "            \n",
        "    @staticmethod\n",
        "    def select(population):\n",
        "        \"\"\"\n",
        "        Selecciona a los más aptos\n",
        "        :param population: la población de organismos\n",
        "        \"\"\"\n",
        "        # se delega la selección de acuerdo al parámetro\n",
        "        # establecido en la llave 'selection.type'\n",
        "        selection_method = \\\n",
        "        GeneticOperators.selections[population.parameters['selection.type']]\n",
        "        return selection_method(population)\n",
        "            "
      ],
      "execution_count": 0,
      "outputs": []
    },
    {
      "cell_type": "markdown",
      "metadata": {
        "id": "FiMTE4z8hBQ7",
        "colab_type": "text"
      },
      "source": [
        "## El algoritmo genético"
      ]
    },
    {
      "cell_type": "markdown",
      "metadata": {
        "id": "fMP_BYbEhBQ8",
        "colab_type": "text"
      },
      "source": [
        "Ahora articulamos los pasos en la clase __GeneticAlgorithm__."
      ]
    },
    {
      "cell_type": "code",
      "metadata": {
        "id": "MlHjVqF_hBQ8",
        "colab_type": "code",
        "colab": {}
      },
      "source": [
        "\n",
        "import warnings\n",
        "class GeneticAlgorithm:\n",
        "    def __init__(self,environment,parameters):\n",
        "        self.parameters = parameters\n",
        "        self.environment = environment\n",
        "        self.population = Population(environment,parameters)\n",
        "        self.environment.decode(self.population)\n",
        "        self.environment.evaluate(self.population)\n",
        "        \n",
        "    def evolve(self):\n",
        "        for i in range(0,self.parameters['n.generations']):\n",
        "            mating_pool = GeneticOperators.select(self.population)       \n",
        "            new_pop = GeneticOperators.crossover(mating_pool)\n",
        "            GeneticOperators.mutate_in_place(new_pop)\n",
        "            self.environment.decode(new_pop)\n",
        "            self.environment.evaluate(new_pop)               \n",
        "            self.population = new_pop\n",
        "            # para reportar avance\n",
        "            self.report(i,self.parameters['n.generations'])\n",
        "            \n",
        "        self.report()\n",
        "                \n",
        "    def report(self,generation=0,total=0):\n",
        "        step = max(1,int(total/10))\n",
        "        progress = int(generation/step) if step != 0 else 100\n",
        "        if(generation==total):\n",
        "            print('\\r'*80+'Done'+' '*76)\n",
        "        elif(generation%step==0):\n",
        "            print('\\r'*80+\"Progress: {num:02d}%\".format(\\\n",
        "            num=progress*10)+\\\n",
        "            \" [\"+chr(187)*int(progress*5)+chr(183)*(10*5-int(progress*5))+\\\n",
        "            \"]\",end=\"\")\n"
      ],
      "execution_count": 0,
      "outputs": []
    },
    {
      "cell_type": "markdown",
      "metadata": {
        "id": "gaF7B9h9hBQ_",
        "colab_type": "text"
      },
      "source": [
        "### TSP como un entorno de organismos"
      ]
    },
    {
      "cell_type": "markdown",
      "metadata": {
        "id": "Fz2ogahEhBQ_",
        "colab_type": "text"
      },
      "source": [
        "Para poder probar el algoritmo tenemos que crear el problema como un entorno.\n",
        "\n",
        "Para ello creamos una nueva clase para el TSP que se comporte como Entorno."
      ]
    },
    {
      "cell_type": "code",
      "metadata": {
        "id": "rrG5hbLshBRA",
        "colab_type": "code",
        "colab": {}
      },
      "source": [
        "class TSP_Environment(TSP,Environment):\n",
        "    \n",
        "    def __init__(self,n=10):\n",
        "        super().__init__(n)\n",
        "        \n",
        "    def evaluate(self,population):\n",
        "        \"\"\"\n",
        "        Evaluación de individuos de la población\n",
        "        \"\"\"\n",
        "        # la aptitud será el inverso del costo\n",
        "        for individual in population.individuals:\n",
        "            individual.fitness = 1/self.compute_cost(individual.phenotype)\n",
        "        \n",
        "    def decode(self,population):\n",
        "        \"\"\"\n",
        "        Decodificación. En problemas de permutación no decodificamos\n",
        "        \"\"\"\n",
        "        pass\n",
        "        \n",
        "    def get_chromosome_length(self):\n",
        "        \"\"\"\n",
        "        Longitud del cromosoma\n",
        "        :return: en el TSP el número de ciudades\n",
        "        \"\"\"\n",
        "        return self.n   \n"
      ],
      "execution_count": 0,
      "outputs": []
    },
    {
      "cell_type": "code",
      "metadata": {
        "id": "sGkwB4QEhBRB",
        "colab_type": "code",
        "outputId": "cde1833a-6d57-4827-e327-472c59ef9e71",
        "colab": {
          "base_uri": "https://localhost:8080/",
          "height": 281
        }
      },
      "source": [
        "# Vamos a crear un nuevo entorno con 20 ciudades\n",
        "tsp_ga = TSP_Environment(20)\n",
        "tsp_ga.show()"
      ],
      "execution_count": 0,
      "outputs": [
        {
          "output_type": "display_data",
          "data": {
            "image/png": "[encoded data removed]",
            "text/plain": [
              "<Figure size 432x288 with 1 Axes>"
            ]
          },
          "metadata": {
            "tags": []
          }
        }
      ]
    },
    {
      "cell_type": "code",
      "metadata": {
        "id": "WxWBa_fQhBRD",
        "colab_type": "code",
        "outputId": "6a7ca330-ba56-42da-b053-0d0f73ce9b4d",
        "colab": {
          "base_uri": "https://localhost:8080/",
          "height": 281
        }
      },
      "source": [
        "#Ahora vamos a crear los paramétros del algoritmo genético\n",
        "\n",
        "parametros = {\n",
        "    \"type\":\"permutation\",\n",
        "    \"n.individuals\":100,\n",
        "    \"n.generations\":100,\n",
        "    \"p.mutation\":1/20,\n",
        "    \"p.crossover\":0.9,\n",
        "    \"crossover.type\":\"permutation.all.operators\",\n",
        "    \"selection.type\":\"roulettewheel.selection\"\n",
        "}\n",
        "\n",
        "# Creamos el algoritmo genético\n",
        "ga = GeneticAlgorithm(environment=tsp_ga,parameters=parametros)\n",
        "# Visualizamos 5 de las soluciones de la población inicial\n",
        "N= 5\n",
        "for i in range(N):\n",
        "    organism = ga.population.individuals[parametros[\"n.individuals\"]//N*i].phenotype\n",
        "    print(organism)\n",
        "    tsp_ga.show(permutation=organism)"
      ],
      "execution_count": 0,
      "outputs": [
        {
          "output_type": "display_data",
          "data": {
            "image/png": "[encoded data removed]",
            "text/plain": [
              "<Figure size 432x288 with 1 Axes>"
            ]
          },
          "metadata": {
            "tags": []
          }
        }
      ]
    },
    {
      "cell_type": "code",
      "metadata": {
        "id": "RlZvxN2ChBRF",
        "colab_type": "code",
        "outputId": "480fa899-ee38-4b6f-9faa-4264c3a4504f",
        "colab": {
          "base_uri": "https://localhost:8080/",
          "height": 70
        }
      },
      "source": [
        "# definamos una función para mostrar información importante de la población\n",
        "\n",
        "def stats(ga):\n",
        "    # podemos calcular el promedio del costo, el mejor y peor costo\n",
        "    print(\"Mejor costo:\",\n",
        "      tsp_ga.compute_cost(max(ga.population.individuals,key=lambda i:i.fitness).phenotype))\n",
        "    print(\"Peor costo:\",\n",
        "      tsp_ga.compute_cost(min(ga.population.individuals,key=lambda i:i.fitness).phenotype))\n",
        "    print(\"Promedio de costo:\",\n",
        "      sum(map(lambda i:tsp_ga.compute_cost(i.phenotype),ga.population.individuals))/ga.population.size)\n",
        "    \n",
        "# invocamos la función\n",
        "stats(ga)"
      ],
      "execution_count": 0,
      "outputs": [
        {
          "output_type": "stream",
          "text": [
            "Mejor costo: 9.04540020243336\n",
            "Peor costo: 15.15751703868959\n",
            "Promedio de costo: 12.234790236254701\n"
          ],
          "name": "stdout"
        }
      ]
    },
    {
      "cell_type": "code",
      "metadata": {
        "id": "kLM-_kF3hBRG",
        "colab_type": "code",
        "outputId": "db732a72-5c30-4b4b-9fc7-723f20f62072",
        "colab": {
          "base_uri": "https://localhost:8080/",
          "height": 35
        }
      },
      "source": [
        "# Ahora vamos a evolucionar la población\n",
        "ga.evolve()"
      ],
      "execution_count": 0,
      "outputs": [
        {
          "output_type": "stream",
          "text": [
            "Done                                                                            \n"
          ],
          "name": "stdout"
        }
      ]
    },
    {
      "cell_type": "code",
      "metadata": {
        "id": "TvHAeQGZhBRI",
        "colab_type": "code",
        "outputId": "aad97389-843e-4652-f755-2bc5e8f940ef",
        "colab": {
          "base_uri": "https://localhost:8080/",
          "height": 70
        }
      },
      "source": [
        "# podemos calcular el promedio del costo, el mejor y peor costo tras la evolución\n",
        "stats(ga)"
      ],
      "execution_count": 0,
      "outputs": [
        {
          "output_type": "stream",
          "text": [
            "Mejor costo: 7.777485897934183\n",
            "Peor costo: 14.29467849071252\n",
            "Promedio de costo: 12.128892992832661\n"
          ],
          "name": "stdout"
        }
      ]
    },
    {
      "cell_type": "code",
      "metadata": {
        "id": "3wb4uVb6hBRL",
        "colab_type": "code",
        "outputId": "ec2eda41-7a0d-4c1b-d5af-8792c891604f",
        "colab": {
          "base_uri": "https://localhost:8080/",
          "height": 176
        }
      },
      "source": [
        "# observamos que hay una ligera mejora en el valor promedio de costo y el mejor costo\n",
        "# Ahora vamos a ver el efecto de los parámetros del algoritmo\n",
        "# primero el número de iteraciones, ahora lo iteraremos 1000 veces\n",
        "parametros[\"n.generations\"]=1000\n",
        "\n",
        "# creamos nuevamente el algoritmo genético:\n",
        "ga = GeneticAlgorithm(environment=tsp_ga,parameters=parametros)\n",
        "print(\"Población inicial:\")\n",
        "stats(ga)\n",
        "# evolucionamos\n",
        "ga.evolve()\n",
        "print(\"Tras 1000 generaciones:\")\n",
        "stats(ga)"
      ],
      "execution_count": 0,
      "outputs": [
        {
          "output_type": "stream",
          "text": [
            "Población inicial:\n",
            "Mejor costo: 9.90352810908928\n",
            "Peor costo: 15.066629081413252\n",
            "Promedio de costo: 12.340060029599224\n",
            "Done                                                                            \n",
            "Tras 1000 generaciones:\n",
            "Mejor costo: 9.082102208021912\n",
            "Peor costo: 14.877076838674114\n",
            "Promedio de costo: 12.11516861340645\n"
          ],
          "name": "stdout"
        }
      ]
    },
    {
      "cell_type": "code",
      "metadata": {
        "id": "34TAdF_ShBRP",
        "colab_type": "code",
        "outputId": "4234ada2-8adc-4465-adf7-24bbe7c735cc",
        "colab": {
          "base_uri": "https://localhost:8080/",
          "height": 176
        }
      },
      "source": [
        "# Ahora vamos a cambiar la selección a torneo\n",
        "parametros[\"selection.type\"]=\"tournament.selection\"\n",
        "# Primero probaremos con torneos binarios\n",
        "parametros[\"tournament.size\"]=2\n",
        "# creamos nuevamente el algoritmo genético:\n",
        "ga = GeneticAlgorithm(environment=tsp_ga,parameters=parametros)\n",
        "print(\"Población inicial:\")\n",
        "stats(ga)\n",
        "# evolucionamos\n",
        "ga.evolve()\n",
        "print(\"Tras 1000 generaciones:\")\n",
        "stats(ga)"
      ],
      "execution_count": 0,
      "outputs": [
        {
          "output_type": "stream",
          "text": [
            "Población inicial:\n",
            "Mejor costo: 7.878585366515588\n",
            "Peor costo: 15.091217770176234\n",
            "Promedio de costo: 12.196948916057504\n",
            "Done                                                                            \n",
            "Tras 1000 generaciones:\n",
            "Mejor costo: 8.066296797364073\n",
            "Peor costo: 13.86801378200061\n",
            "Promedio de costo: 11.161884091659164\n"
          ],
          "name": "stdout"
        }
      ]
    },
    {
      "cell_type": "code",
      "metadata": {
        "id": "6QifC3HehBRR",
        "colab_type": "code",
        "outputId": "0eb181d3-f7a4-4355-f393-4812e830b129",
        "colab": {
          "base_uri": "https://localhost:8080/",
          "height": 176
        }
      },
      "source": [
        "# Repetiremos el experimento con un torneo más grande\n",
        "# incrementando con ello la presión de selección\n",
        "parametros[\"tournament.size\"]=15\n",
        "# creamos nuevamente el algoritmo genético:\n",
        "ga = GeneticAlgorithm(environment=tsp_ga,parameters=parametros)\n",
        "print(\"Población inicial:\")\n",
        "stats(ga)\n",
        "# evolucionamos\n",
        "ga.evolve()\n",
        "print(\"Tras 1000 generaciones:\")\n",
        "stats(ga)"
      ],
      "execution_count": 0,
      "outputs": [
        {
          "output_type": "stream",
          "text": [
            "Población inicial:\n",
            "Mejor costo: 8.764407758683964\n",
            "Peor costo: 14.869151962926592\n",
            "Promedio de costo: 12.330801795454697\n",
            "Done                                                                            \n",
            "Tras 1000 generaciones:\n",
            "Mejor costo: 3.553331902892306\n",
            "Peor costo: 10.505822155852895\n",
            "Promedio de costo: 5.040042303659913\n"
          ],
          "name": "stdout"
        }
      ]
    },
    {
      "cell_type": "code",
      "metadata": {
        "id": "scbR_dJkhBRT",
        "colab_type": "code",
        "outputId": "ab57c2c7-8a52-4303-cc07-9d3add2c9843",
        "colab": {
          "base_uri": "https://localhost:8080/",
          "height": 281
        }
      },
      "source": [
        "#Mostremos la mejor solución\n",
        "tsp_ga.show(max(ga.population.individuals,key=lambda i:i.fitness).phenotype)"
      ],
      "execution_count": 0,
      "outputs": [
        {
          "output_type": "display_data",
          "data": {
            "image/png": "[encoded data removed]",
            "text/plain": [
              "<Figure size 432x288 with 1 Axes>"
            ]
          },
          "metadata": {
            "tags": []
          }
        }
      ]
    },
    {
      "cell_type": "code",
      "metadata": {
        "id": "mi5729KJhBRU",
        "colab_type": "code",
        "outputId": "99462f9e-2012-4b5e-e8fd-1078b5e76ff6",
        "colab": {
          "base_uri": "https://localhost:8080/",
          "height": 176
        }
      },
      "source": [
        "random.seed(201908)\n",
        "# Finalmente, con estos parámetros podemos comparar contra el problema resuelto\n",
        "# con el algoritmo SA\n",
        "tsp_ga.cities = tsp.cities\n",
        "tsp_ga.n = tsp.n\n",
        "parametros = {\n",
        "    \"type\":\"permutation\",\n",
        "    \"n.individuals\":500,\n",
        "    \"n.generations\":1000,\n",
        "    \"p.mutation\":1/tsp.n,\n",
        "    \"p.crossover\":0.95,\n",
        "    \"crossover.type\":\"permutation.all.operators\",\n",
        "    \"selection.type\":\"tournament.selection\",\n",
        "    \"tournament.size\":8\n",
        "}\n",
        "# creamos nuevamente el algoritmo genético:\n",
        "ga = GeneticAlgorithm(environment=tsp_ga,parameters=parametros)\n",
        "print(\"Población inicial:\")\n",
        "stats(ga)\n",
        "# evolucionamos\n",
        "ga.evolve()\n",
        "print(\"Tras %d generaciones:\"%parametros[\"n.generations\"])\n",
        "stats(ga)\n"
      ],
      "execution_count": 0,
      "outputs": [
        {
          "output_type": "stream",
          "text": [
            "Población inicial:\n",
            "Mejor costo: 15.453111168052043\n",
            "Peor costo: 23.320330040274943\n",
            "Promedio de costo: 19.87107760225747\n",
            "Done                                                                            \n",
            "Tras 1000 generaciones:\n",
            "Mejor costo: 5.939781791315739\n",
            "Peor costo: 18.81134390503665\n",
            "Promedio de costo: 7.455563147380013\n"
          ],
          "name": "stdout"
        }
      ]
    },
    {
      "cell_type": "code",
      "metadata": {
        "id": "pxoQs-87wPYK",
        "colab_type": "code",
        "outputId": "b87c7c56-0ca9-4ae7-f369-2d594e25c6f8",
        "colab": {
          "base_uri": "https://localhost:8080/",
          "height": 281
        }
      },
      "source": [
        "#Mostremos la mejor solución\n",
        "tsp_ga.show(max(ga.population.individuals,key=lambda i:i.fitness).phenotype)"
      ],
      "execution_count": 0,
      "outputs": [
        {
          "output_type": "display_data",
          "data": {
            "image/png": "[encoded data removed]",
            "text/plain": [
              "<Figure size 432x288 with 1 Axes>"
            ]
          },
          "metadata": {
            "tags": []
          }
        }
      ]
    },
    {
      "cell_type": "markdown",
      "metadata": {
        "id": "l-JCFYZhhBRW",
        "colab_type": "text"
      },
      "source": [
        "## Referencias"
      ]
    },
    {
      "cell_type": "markdown",
      "metadata": {
        "id": "NYgsnkPehBRY",
        "colab_type": "text"
      },
      "source": [
        "[1] Abdoun, O., & Abouchabaka, J. (2012). A comparative study of adaptive crossover operators for genetic algorithms to resolve the traveling salesman problem. arXiv preprint arXiv:1203.3097.\n",
        "\n",
        "[2] David Edward Goldberg et al. Genetic algorithms in search, optimization, and machine\n",
        "learning, volume 412. Addison-wesley Reading Menlo Park, 1989. Cubre el tema de\n",
        "algoritmos genéticos."
      ]
    },
    {
      "cell_type": "code",
      "metadata": {
        "id": "nYAEciDShBRY",
        "colab_type": "code",
        "colab": {}
      },
      "source": [
        ""
      ],
      "execution_count": 0,
      "outputs": []
    }
  ]
}